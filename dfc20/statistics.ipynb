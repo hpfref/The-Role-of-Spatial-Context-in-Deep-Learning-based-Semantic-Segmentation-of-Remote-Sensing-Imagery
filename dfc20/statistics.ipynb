{
 "cells": [
  {
   "cell_type": "code",
   "execution_count": null,
   "metadata": {
    "colab": {
     "base_uri": "https://localhost:8080/",
     "height": 339
    },
    "executionInfo": {
     "elapsed": 2969,
     "status": "error",
     "timestamp": 1745518797650,
     "user": {
      "displayName": "krk krk",
      "userId": "09642144202638997240"
     },
     "user_tz": -120
    },
    "id": "bJJqQZGtjNB_",
    "outputId": "e2243e0d-79ee-42a4-8c68-be4dee0b9d59"
   },
   "outputs": [],
   "source": [
    "#from google.colab import drive\n",
    "#drive.mount('/content/drive')\n",
    "#%cd /content/drive/MyDrive/The-Role-of-Spatial-Context-in-Deep-Learning-based-Semantic-Segmentation-of-Remote-Sensing-Imagery/dfc20/utilities\n",
    "#!pip install rasterio"
   ]
  },
  {
   "cell_type": "code",
   "execution_count": null,
   "metadata": {
    "executionInfo": {
     "elapsed": 3068,
     "status": "aborted",
     "timestamp": 1745518797623,
     "user": {
      "displayName": "krk krk",
      "userId": "09642144202638997240"
     },
     "user_tz": -120
    },
    "id": "7-nr1wNazbx6"
   },
   "outputs": [],
   "source": [
    "#!cp -r /content/drive/MyDrive/The-Role-of-Spatial-Context-in-Deep-Learning-based-Semantic-Segmentation-of-Remote-Sensing-Imagery/dfc20/data /content/data"
   ]
  },
  {
   "cell_type": "code",
   "execution_count": 12,
   "metadata": {
    "id": "syxHLxmhghE_"
   },
   "outputs": [],
   "source": [
    "import rasterio\n",
    "import numpy as np\n",
    "import matplotlib.pyplot as plt\n",
    "import os\n",
    "import sys\n",
    "from matplotlib.patches import Patch\n",
    "import json\n",
    "from collections import Counter\n",
    "\n",
    "#parent_dir = os.path.abspath(os.path.join(os.getcwd(), '..'))\n",
    "#sys.path.insert(0, parent_dir)\n",
    "\n",
    "from dataset import DFC20"
   ]
  },
  {
   "cell_type": "code",
   "execution_count": null,
   "metadata": {
    "colab": {
     "base_uri": "https://localhost:8080/"
    },
    "executionInfo": {
     "elapsed": 84,
     "status": "ok",
     "timestamp": 1745516877547,
     "user": {
      "displayName": "krk krk",
      "userId": "09642144202638997240"
     },
     "user_tz": -120
    },
    "id": "jpF85TSlghFE",
    "outputId": "a116a456-338e-493c-bf98-e6c775fb6730"
   },
   "outputs": [
    {
     "name": "stderr",
     "output_type": "stream",
     "text": [
      "[Load]: 100%|██████████| 1160/1160 [00:00<00:00, 289004.61it/s]"
     ]
    },
    {
     "name": "stdout",
     "output_type": "stream",
     "text": [
      "loaded 1160 samples from the DFC20 subset test\n"
     ]
    },
    {
     "name": "stderr",
     "output_type": "stream",
     "text": [
      "\n"
     ]
    }
   ],
   "source": [
    "#path = \"../data\"\n",
    "#path = \"/content/data\"\n",
    "path = \"./data\"\n",
    "\n",
    "# load datasets\n",
    "ds = DFC20(path,\n",
    "            subset=\"train\",\n",
    "            use_s2_RGB=False,\n",
    "            use_s2_hr=False,\n",
    "            use_s2_all=True)"
   ]
  },
  {
   "cell_type": "code",
   "execution_count": 5,
   "metadata": {
    "colab": {
     "base_uri": "https://localhost:8080/"
    },
    "executionInfo": {
     "elapsed": 1162,
     "status": "ok",
     "timestamp": 1745514920834,
     "user": {
      "displayName": "krk krk",
      "userId": "09642144202638997240"
     },
     "user_tz": -120
    },
    "id": "54apo7W7ghFG",
    "outputId": "71144856-f45a-4849-a853-115a1f39f3bc"
   },
   "outputs": [
    {
     "name": "stdout",
     "output_type": "stream",
     "text": [
      "(13, 256, 256)\n"
     ]
    },
    {
     "data": {
      "text/plain": [
       "array([89746592., 71175560., 55347008., 46183528., 44025788., 42829112.,\n",
       "       42909832., 37724452., 41580960., 16012971.,   406232., 33433124.,\n",
       "       28542206.], dtype=float32)"
      ]
     },
     "execution_count": 5,
     "metadata": {},
     "output_type": "execute_result"
    }
   ],
   "source": [
    "img = ds.__getitem__(1)['image']\n",
    "print(img.shape)\n",
    "sum_img = np.sum(img, axis=(1, 2))  # Sum over height and width (axis 1 and 2)\n",
    "sum_sq_img = np.sum(img**2, axis=(1, 2))  # Sum of squared pixel values\n",
    "sum_img"
   ]
  },
  {
   "cell_type": "markdown",
   "metadata": {
    "id": "qRrdQXMnghFG"
   },
   "source": [
    "MEAN STD"
   ]
  },
  {
   "cell_type": "code",
   "execution_count": null,
   "metadata": {
    "colab": {
     "base_uri": "https://localhost:8080/"
    },
    "executionInfo": {
     "elapsed": 155512,
     "status": "ok",
     "timestamp": 1745518292235,
     "user": {
      "displayName": "krk krk",
      "userId": "09642144202638997240"
     },
     "user_tz": -120
    },
    "id": "jMCOddL_ghFI",
    "outputId": "9fbac017-8370-4eef-f9a2-56928c8b16c5"
   },
   "outputs": [
    {
     "name": "stdout",
     "output_type": "stream",
     "text": [
      "Mean: [1272.16720372 1027.73928382  937.9851055   779.450488   1024.74893655\n",
      " 1767.03042979 2068.67777491 2022.92672832 2234.29554739  788.00590771\n",
      "   10.91993568 1498.87448473  934.60372392]\n",
      "Std: [ 197.73851336  261.65425257  300.75439479  468.21129954  487.37184567\n",
      "  967.7635599  1221.23601915 1230.64561262 1352.95229777  520.38536375\n",
      "    4.60888687 1016.39034628  772.87821907]\n"
     ]
    }
   ],
   "source": [
    "sum_img = np.zeros((13,))  # Running sum for each band\n",
    "sum_sq_img = np.zeros((13,))  # Running sum of squares for each band\n",
    "num_pixels = 0  # Total number of pixels processed\n",
    "\n",
    "\n",
    "for i in range(len(ds)):\n",
    "    img = ds.__getitem__(i)['image']\n",
    "    img = img.astype(np.float64)\n",
    "\n",
    "    sum_img += np.sum(img, axis=(1, 2))  # Sum over height (axis 1) and width (axis 2)\n",
    "    sum_sq_img += np.sum(img**2, axis=(1, 2))  # Sum of squared values for each band\n",
    "\n",
    "    num_pixels += img.shape[1] * img.shape[2]  # 256 * 256\n",
    "\n",
    "mean = sum_img / num_pixels  # Mean for each band\n",
    "std = np.sqrt((sum_sq_img / num_pixels) - mean**2)  # Standard deviation for each band\n",
    "\n",
    "print(\"Mean:\", mean)\n",
    "print(\"Std:\", std)\n",
    "\n",
    "# Save mean and std for later use\n",
    "np.save(\"utilities/s2_train_mean.npy\", mean)\n",
    "np.save(\"utilities/s2_train_std.npy\", std)"
   ]
  },
  {
   "cell_type": "markdown",
   "metadata": {
    "id": "kzfb-kUGghFK"
   },
   "source": [
    "MIN MAX"
   ]
  },
  {
   "cell_type": "code",
   "execution_count": null,
   "metadata": {
    "id": "lQwbfeOLghFL"
   },
   "outputs": [],
   "source": [
    "# Initialize min and max values for each band\n",
    "min_img = np.full((13,), np.inf)  # Start with large values\n",
    "max_img = np.full((13,), -np.inf)  # Start with small values\n",
    "\n",
    "for i in range(len(ds)):\n",
    "    img = ds.__getitem__(i)['image']  # Get image (shape: 13, 256, 256)\n",
    "\n",
    "    # Compute per-band min and max\n",
    "    min_img = np.minimum(min_img, np.min(img, axis=(1, 2)))\n",
    "    max_img = np.maximum(max_img, np.max(img, axis=(1, 2)))\n",
    "\n",
    "print(\"Min per band:\", min_img)\n",
    "print(\"Max per band:\", max_img)"
   ]
  },
  {
   "cell_type": "markdown",
   "metadata": {},
   "source": [
    "LABEL MULTI CLASS"
   ]
  },
  {
   "cell_type": "code",
   "execution_count": null,
   "metadata": {
    "id": "SwHSWAPBghFL"
   },
   "outputs": [],
   "source": [
    "image_class_presence = []\n",
    "\n",
    "for i in range(len(ds)):\n",
    "    mask = ds.__getitem__(i)['label']\n",
    "    class_ids = np.unique(mask)\n",
    "    image_class_presence.append([int(cls_id) for cls_id in class_ids])\n",
    "\n",
    "with open(\"utilities/train_multi_class_per_image.json\", \"w\") as f:\n",
    "    json.dump(image_class_presence, f)"
   ]
  },
  {
   "cell_type": "markdown",
   "metadata": {},
   "source": [
    "LABEL MAJORITY CLASS"
   ]
  },
  {
   "cell_type": "code",
   "execution_count": null,
   "metadata": {},
   "outputs": [],
   "source": [
    "majority_classes = []\n",
    "\n",
    "for i in range(len(ds)):\n",
    "    mask = ds.__getitem__(i)['label']\n",
    "    class_counts = Counter(mask.flatten())\n",
    "    majority_class = class_counts.most_common(1)[0][0]  # Get class with most pixels\n",
    "    majority_classes.append(int(majority_class))\n",
    "\n",
    "with open(\"utilities/train_majority_class_per_image.json\", \"w\") as f:\n",
    "    json.dump(majority_classes, f)"
   ]
  },
  {
   "cell_type": "code",
   "execution_count": null,
   "metadata": {},
   "outputs": [],
   "source": []
  }
 ],
 "metadata": {
  "colab": {
   "provenance": []
  },
  "kernelspec": {
   "display_name": "base",
   "language": "python",
   "name": "python3"
  },
  "language_info": {
   "codemirror_mode": {
    "name": "ipython",
    "version": 3
   },
   "file_extension": ".py",
   "mimetype": "text/x-python",
   "name": "python",
   "nbconvert_exporter": "python",
   "pygments_lexer": "ipython3",
   "version": "3.12.7"
  }
 },
 "nbformat": 4,
 "nbformat_minor": 0
}
