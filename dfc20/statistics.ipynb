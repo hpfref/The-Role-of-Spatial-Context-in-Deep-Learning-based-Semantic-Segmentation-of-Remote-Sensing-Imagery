{
 "cells": [
  {
   "cell_type": "code",
   "execution_count": 1,
   "metadata": {},
   "outputs": [],
   "source": [
    "import rasterio\n",
    "import numpy as np\n",
    "import matplotlib.pyplot as plt\n",
    "import os\n",
    "import dataset as ds\n",
    "from matplotlib.patches import Patch"
   ]
  },
  {
   "cell_type": "code",
   "execution_count": null,
   "metadata": {},
   "outputs": [
    {
     "name": "stderr",
     "output_type": "stream",
     "text": [
      "[Load]: 100%|██████████| 4754/4754 [00:00<00:00, 105680.10it/s]"
     ]
    },
    {
     "name": "stdout",
     "output_type": "stream",
     "text": [
      "loaded 4754 samples from the DFC20 subset train\n"
     ]
    },
    {
     "name": "stderr",
     "output_type": "stream",
     "text": [
      "\n"
     ]
    },
    {
     "data": {
      "text/plain": [
       "4754"
      ]
     },
     "execution_count": 3,
     "metadata": {},
     "output_type": "execute_result"
    }
   ],
   "source": [
    "path = \"./data\"\n",
    "ds = ds.DFC20(path, subset=\"train\", use_s1=False, use_s2_RGB=False, use_s2_hr=False, use_s2_all=True, as_tensor=False)\n",
    "ds.__len__()"
   ]
  },
  {
   "cell_type": "code",
   "execution_count": 14,
   "metadata": {},
   "outputs": [
    {
     "name": "stdout",
     "output_type": "stream",
     "text": [
      "(13, 256, 256)\n"
     ]
    },
    {
     "data": {
      "text/plain": [
       "array([89746590., 71175560., 55347010., 46183530., 44025788., 42829110.,\n",
       "       42909830., 37724452., 41580960., 16012971.,   406232., 33433124.,\n",
       "       28542206.], dtype=float32)"
      ]
     },
     "execution_count": 14,
     "metadata": {},
     "output_type": "execute_result"
    }
   ],
   "source": [
    "img = ds.__getitem__(1)['image']\n",
    "print(img.shape)\n",
    "sum_img = np.sum(img, axis=(1, 2))  # Sum over height and width (axis 1 and 2)\n",
    "sum_sq_img = np.sum(img**2, axis=(1, 2))  # Sum of squared pixel values\n",
    "sum_img"
   ]
  },
  {
   "cell_type": "markdown",
   "metadata": {},
   "source": [
    "MEAN STD"
   ]
  },
  {
   "cell_type": "code",
   "execution_count": 15,
   "metadata": {},
   "outputs": [],
   "source": [
    "\n",
    "# Initialize variables to store the running sum and square sum for calculating mean and std\n",
    "sum_img = np.zeros((13,))  # Running sum for each band\n",
    "sum_sq_img = np.zeros((13,))  # Running sum of squares for each band\n",
    "num_pixels = 0\n",
    "\n",
    "for i in range(ds.__len__()):\n",
    "    img = ds.__getitem__(i)['image']\n",
    "    #print(img.shape)\n",
    "    sum_img += np.sum(img, axis=(1, 2))  # Sum over height and width (axis 1 and 2)\n",
    "    sum_sq_img += np.sum(img**2, axis=(1, 2))  # Sum of squared pixel values\n",
    "\n",
    "    # Increment number of pixels processed\n",
    "    num_pixels += 65536  # 256*256\n",
    "\n",
    "# Now calculate the global mean and std for each band\n",
    "mean = sum_img / num_pixels  # Mean for each band\n",
    "std = np.sqrt((sum_sq_img / num_pixels) - mean**2)  # Standard deviation for each band\n",
    "#mean[None, None, :]"
   ]
  },
  {
   "cell_type": "code",
   "execution_count": null,
   "metadata": {},
   "outputs": [
    {
     "name": "stdout",
     "output_type": "stream",
     "text": [
      "[1275.56366148 1038.57734603  949.87916508  814.60094421 1049.14282086\n",
      " 1747.35075034 2033.31146565 1991.47800801 2195.7438094   800.6378601\n",
      "   12.03797621 1521.99609528  970.35119174]\n",
      "[ 203.10924668  269.65614201  309.13105797  482.80072872  490.52968804\n",
      "  928.52246598 1171.08680903 1181.02514416 1297.94465422  500.73809154\n",
      "    7.11942405  990.00070073  765.27917928]\n"
     ]
    }
   ],
   "source": [
    "print(mean)\n",
    "print(std)"
   ]
  },
  {
   "attachments": {
    "image.png": {
     "image/png": "[encoded data removed]"
    }
   },
   "cell_type": "markdown",
   "metadata": {},
   "source": [
    "![image.png](attachment:image.png)"
   ]
  },
  {
   "cell_type": "code",
   "execution_count": null,
   "metadata": {},
   "outputs": [],
   "source": [
    "bands_mean_train = {'s1_mean': [0, 0],\n",
    "                    's2_mean': [1275.56366148,1038.57734603,949.87916508,814.60094421,1049.14282086,1747.35075034,\n",
    "                                2033.31146565,1991.47800801,2195.7438094,800.6378601,12.03797621,1521.99609528,970.35119174]}\n",
    "\n",
    "bands_std_train = {'s1_mean': [0, 0],\n",
    "                   's2_mean': [ 203.10894865,269.65605412,309.13100577,482.80068554,490.5296078,928.52234092,1171.08669927,\n",
    "                               1181.02504077,1297.944547,500.73803514,7.11942401,990.00060658,765.27912456]}"
   ]
  },
  {
   "cell_type": "markdown",
   "metadata": {},
   "source": [
    "MIN MAX"
   ]
  },
  {
   "cell_type": "code",
   "execution_count": 5,
   "metadata": {},
   "outputs": [
    {
     "name": "stdout",
     "output_type": "stream",
     "text": [
      "Min per band: [5.66999987e-02 9.99999975e-05 9.99999975e-05 9.99999975e-05\n",
      " 9.99999975e-05 9.99999975e-05 9.99999975e-05 9.99999975e-05\n",
      " 9.99999975e-05 9.99999975e-05 9.99999975e-05 3.00000014e-04\n",
      " 9.99999975e-05]\n",
      "Max per band: [1.         1.         1.         1.         1.         1.\n",
      " 1.         1.         1.         1.         0.14229999 1.\n",
      " 1.        ]\n"
     ]
    }
   ],
   "source": [
    "# Initialize min and max values for each band\n",
    "min_img = np.full((13,), np.inf)  # Start with large values\n",
    "max_img = np.full((13,), -np.inf)  # Start with small values\n",
    "\n",
    "for i in range(len(ds)):\n",
    "    img = ds.__getitem__(i)['image']  # Get image (shape: 13, 256, 256)\n",
    "    \n",
    "    # Compute per-band min and max\n",
    "    min_img = np.minimum(min_img, np.min(img, axis=(1, 2)))\n",
    "    max_img = np.maximum(max_img, np.max(img, axis=(1, 2)))\n",
    "\n",
    "print(\"Min per band:\", min_img)\n",
    "print(\"Max per band:\", max_img)"
   ]
  },
  {
   "cell_type": "code",
   "execution_count": null,
   "metadata": {},
   "outputs": [],
   "source": []
  }
 ],
 "metadata": {
  "kernelspec": {
   "display_name": "base",
   "language": "python",
   "name": "python3"
  },
  "language_info": {
   "codemirror_mode": {
    "name": "ipython",
    "version": 3
   },
   "file_extension": ".py",
   "mimetype": "text/x-python",
   "name": "python",
   "nbconvert_exporter": "python",
   "pygments_lexer": "ipython3",
   "version": "3.9.7"
  }
 },
 "nbformat": 4,
 "nbformat_minor": 2
}
